{
 "cells": [
  {
   "cell_type": "code",
   "execution_count": 1,
   "metadata": {},
   "outputs": [],
   "source": [
    "from sampleWithThresholds import *"
   ]
  },
  {
   "cell_type": "markdown",
   "metadata": {},
   "source": [
    "generateRegionForNetwork is the function to get parameter regions from a sample point. It has three inputs:\n",
    "\n",
    "* logics: is the list of input logic for each node, it is in form of string $2^{I_1}\\_2^{I_2}\\_\\dots\\_2^{I_k}$. I_i is the length for the i-th product component of input logic.\n",
    "\n",
    "* sampleList: is the list of samples in form of $(l_i, u_i)$ in order of the corresponding logic from left to right\n",
    "\n",
    "* thetaList: is the list of thetas values in order of $(\\theta_1,\\dots, \\theta_m)$"
   ]
  },
  {
   "cell_type": "code",
   "execution_count": 2,
   "metadata": {},
   "outputs": [],
   "source": [
    "# exmaple of toggle switch\n",
    "# generate the inputs\n",
    "logics=['2','2']\n",
    "vLogic = getVLogic('2')\n",
    "\n",
    "sampleList = rSample(vLogic,2)\n",
    "thetaList = [genThetas(1,1) for _ in range(len(logics))]"
   ]
  },
  {
   "cell_type": "code",
   "execution_count": 3,
   "metadata": {},
   "outputs": [
    {
     "data": {
      "text/plain": [
       "[[0, 1, -1], [0, 1, -1]]"
      ]
     },
     "execution_count": 3,
     "metadata": {},
     "output_type": "execute_result"
    }
   ],
   "source": [
    "generateRegionForNetwork(logics,sampleList,thetaList)"
   ]
  },
  {
   "cell_type": "code",
   "execution_count": 4,
   "metadata": {},
   "outputs": [],
   "source": [
    "# example of repressilator \n",
    "logics=['2','2','2']\n",
    "vLogic = getVLogic('2')\n",
    "\n",
    "sampleList = rSample(vLogic,3)\n",
    "thetaList = [genThetas(1,1) for _ in range(len(logics))]"
   ]
  },
  {
   "cell_type": "code",
   "execution_count": 5,
   "metadata": {},
   "outputs": [
    {
     "data": {
      "text/plain": [
       "[[-1, 0, 1], [0, 1, -1], [0, -1, 1]]"
      ]
     },
     "execution_count": 5,
     "metadata": {},
     "output_type": "execute_result"
    }
   ],
   "source": [
    "generateRegionForNetwork(logics,sampleList,thetaList)"
   ]
  },
  {
   "cell_type": "code",
   "execution_count": 6,
   "metadata": {},
   "outputs": [],
   "source": [
    "# example of p53\n",
    "# example of repressilator \n",
    "logics=['2','2','2','2_2','4_2']\n",
    "vLogics = [getVLogic(x) for x in logics]\n",
    "\n",
    "sampleList = [rSample(vLogic,1)[0] for vLogic in vLogics]\n",
    "thetaList = [genThetas(1,1), genThetas(2,1), genThetas(2,1), genThetas(1,1), genThetas(2,1) ]"
   ]
  },
  {
   "cell_type": "code",
   "execution_count": 7,
   "metadata": {},
   "outputs": [
    {
     "data": {
      "text/plain": [
       "[[0, 1, -1],\n",
       " [-1, 0, 1, -2],\n",
       " [-1, -2, 0, 1],\n",
       " [-1, 0, 1, 2, 3],\n",
       " [-1, -2, 0, 1, 2, 3, 4, 5, 6, 7]]"
      ]
     },
     "execution_count": 7,
     "metadata": {},
     "output_type": "execute_result"
    }
   ],
   "source": [
    "generateRegionForNetwork(logics,sampleList,thetaList)"
   ]
  },
  {
   "cell_type": "code",
   "execution_count": null,
   "metadata": {},
   "outputs": [],
   "source": []
  }
 ],
 "metadata": {
  "kernelspec": {
   "display_name": "Python (tensorflow)",
   "language": "python",
   "name": "myenv"
  },
  "language_info": {
   "codemirror_mode": {
    "name": "ipython",
    "version": 3
   },
   "file_extension": ".py",
   "mimetype": "text/x-python",
   "name": "python",
   "nbconvert_exporter": "python",
   "pygments_lexer": "ipython3",
   "version": "3.6.7"
  }
 },
 "nbformat": 4,
 "nbformat_minor": 2
}
