{
 "cells": [
  {
   "cell_type": "markdown",
   "metadata": {},
   "source": [
    "The sampling is based on 0 < L < U, 0 < T uniformly"
   ]
  },
  {
   "cell_type": "code",
   "execution_count": 2,
   "metadata": {},
   "outputs": [],
   "source": [
    "import random\n",
    "from math import log\n",
    "from math import floor\n",
    "import numpy as np\n",
    "from time import time\n",
    "import sys\n",
    "import json\n",
    "from bisect import bisect_left\n",
    "\n",
    "precision = 1000\n",
    "timeInterval = 12*60*60 # half day\n",
    "\n",
    "def getVLogic(logic):\n",
    "    \"\"\"Value logic\"\"\"\n",
    "    vLogic = list(map(lambda x:int(x), logic.split('_')))\n",
    "    return vLogic\n",
    "\n",
    "def getLLogic(vLogic):\n",
    "    \"\"\"Log logic\"\"\"\n",
    "    lLogic = list(map(lambda x: int(log(x,2)), vLogic))\n",
    "    return lLogic\n",
    "\n",
    "def rSample(vLogic, no):\n",
    "    \"\"\"The input is value logic\"\"\"\n",
    "    lLogic = getLLogic(vLogic)\n",
    "    samples = []\n",
    "    for _ in range(no):\n",
    "        temp = []\n",
    "        for j in range(len(lLogic)):\n",
    "            fsample =[sorted(random.sample(range(1,precision),2)) for _ in range(lLogic[j])]\n",
    "            temp+=fsample\n",
    "        samples.append(temp)\n",
    "    return samples\n",
    "\n",
    "def indexMask(vLogic):\n",
    "    \"\"\"Generate map i-> bit mask of i for value logic\"\"\"\n",
    "    no = np.prod(vLogic)\n",
    "    l = int(log(no,2))\n",
    "    pattern = '{0:0'+str(l)+'b}'\n",
    "    ret = []\n",
    "    for i in range(no):\n",
    "        mask = pattern.format(i)\n",
    "        vMask = [int(i) for i in mask]\n",
    "        currMask = []\n",
    "        lLogic = getLLogic(vLogic)\n",
    "        currPos = 0\n",
    "        for i in range(len(lLogic)):\n",
    "            temp = vMask[currPos:currPos+lLogic[i]]\n",
    "            currMask.append(temp)\n",
    "            currPos += lLogic[i]\n",
    "        ret.append(currMask)\n",
    "    return ret\n",
    "\n",
    "def evalMask(sample, masks):\n",
    "    \"\"\"Given masks evaluate the sample sequence of switching polynomials\"\"\"\n",
    "    ret = []\n",
    "    for i in range(len(masks)):\n",
    "        currVal = 1\n",
    "        currPos = 0\n",
    "        for j in range(len(masks[i])):\n",
    "            tempSum = 0\n",
    "            for k in range(len(masks[i][j])):\n",
    "                if masks[i][j][k] == 0:\n",
    "                    tempSum += sample[currPos][0]\n",
    "                else:\n",
    "                    tempSum += sample[currPos][1]\n",
    "                currPos +=1\n",
    "            currVal*=tempSum\n",
    "        ret.append(currVal)\n",
    "    return ret \n",
    "\n",
    "\n",
    "def reachTime(startTime,timeLimit):\n",
    "    if time() - startTime > timeLimit:\n",
    "        return True\n",
    "    else:\n",
    "        return False\n",
    "    \n",
    "def saveResult(logicName, fileNumber, res):\n",
    "    fileName = logicName +'_'+str(fileNumber)\n",
    "    with open(fileName,'w') as file:\n",
    "        json.dump(res,file)\n",
    "    \n",
    "    return\n",
    "\n",
    "\n",
    "            \n",
    "\n",
    "def runSampleSPolynomials(logic):\n",
    "    \"\"\"Sample the swithcing polynomials without thetas\"\"\"\n",
    "    roundLimit = 1000000\n",
    "    \n",
    "    res = dict()\n",
    "    count = 1\n",
    "    vLogic = getVLogic(logic)\n",
    "    masks = indexMask(vLogic)\n",
    "    start = time()\n",
    "\n",
    "    while True:\n",
    "        print(count)\n",
    "        samples = rSample(vLogic,roundLimit)\n",
    "        for i in range(len(samples)):\n",
    "            tempVals = evalMask(samples[i],masks)\n",
    "            if len(np.unique(tempVals)) != len(tempVals):\n",
    "                continue\n",
    "            tempOrd = str(np.argsort(tempVals))\n",
    "            \n",
    "            if tempOrd not in res:\n",
    "                res[tempOrd] = 1\n",
    "            else:\n",
    "                res[tempOrd] +=1\n",
    "\n",
    "        if reachTime(start, count*timeInterval):\n",
    "            saveResult(str(vLogic), count, res)\n",
    "            count+=1\n",
    "            \n",
    "def genThetas(noThetas,degree):\n",
    "    \"\"\"Generated Thetas, return thetas from the smallest to the biggest\"\"\"\n",
    "    thetas = sorted(random.sample(range(1,precision**degree),noThetas))\n",
    "    return thetas\n",
    "\n",
    "\n",
    "def binSort(x):\n",
    "    prev = 0\n",
    "    for i in range(len(x)):\n",
    "        if x[i] < 0:\n",
    "            x[prev:i] = sorted(x[prev:i])\n",
    "            prev = i+1\n",
    "            \n",
    "    l = len(x)\n",
    "    x[prev:l] = sorted(x[prev:l])\n",
    "    return x\n",
    "            \n",
    "    \n",
    "            \n",
    "def runSampleWithThetas(logic,noThetas):\n",
    "    \"\"\"Sample the swithcing polynomials without thetas\"\"\"\n",
    "    roundLimit = 10000\n",
    "    res = dict()\n",
    "    count = 1\n",
    "    vLogic = getVLogic(logic)\n",
    "    masks = indexMask(vLogic)\n",
    "    start = time()\n",
    "    degree = len(vLogic)\n",
    "    \n",
    "\n",
    "    while True:\n",
    "        print(count)\n",
    "        samples = rSample(vLogic,roundLimit)\n",
    "        for i in range(len(samples)):\n",
    "            tempVals = evalMask(samples[i],masks)\n",
    "            thetas = genThetas(noThetas,degree)\n",
    "            if len(np.unique(tempVals+thetas)) != (len(tempVals)+len(thetas)):\n",
    "                continue\n",
    "            \n",
    "            tempOrd = np.argsort(tempVals+thetas)\n",
    "            for i in range(len(tempOrd)):\n",
    "                if tempOrd[i] >= len(tempVals):\n",
    "                    tempOrd[i] -= len(tempOrd)\n",
    "                \n",
    "            tempOrd = str(binSort(tempOrd))\n",
    "            \n",
    "            #print(tempord)\n",
    "            if tempOrd not in res:\n",
    "                res[tempOrd] = 1\n",
    "            else:\n",
    "                res[tempOrd] +=1\n",
    "\n",
    "        if reachTime(start, count*timeInterval):\n",
    "            saveResult(str(vLogic), count, res)\n",
    "            count+=1"
   ]
  },
  {
   "cell_type": "code",
   "execution_count": 116,
   "metadata": {},
   "outputs": [
    {
     "name": "stdout",
     "output_type": "stream",
     "text": [
      "1\n",
      "2\n",
      "3\n"
     ]
    }
   ],
   "source": [
    "runSampleWithThetas('4_2',1)"
   ]
  },
  {
   "cell_type": "code",
   "execution_count": 104,
   "metadata": {},
   "outputs": [
    {
     "name": "stdout",
     "output_type": "stream",
     "text": [
      "1\n",
      "2\n",
      "3\n"
     ]
    }
   ],
   "source": [
    "runSample('4_2')"
   ]
  },
  {
   "cell_type": "code",
   "execution_count": 94,
   "metadata": {},
   "outputs": [],
   "source": [
    "json.dump?"
   ]
  },
  {
   "cell_type": "code",
   "execution_count": 88,
   "metadata": {},
   "outputs": [],
   "source": [
    "masks = indexMask([8])"
   ]
  },
  {
   "cell_type": "code",
   "execution_count": 89,
   "metadata": {},
   "outputs": [
    {
     "data": {
      "text/plain": [
       "[[[459, 864], [241, 675], [127, 928]], [[242, 727], [18, 21], [634, 890]]]"
      ]
     },
     "execution_count": 89,
     "metadata": {},
     "output_type": "execute_result"
    }
   ],
   "source": [
    "sample = rSample([8],2)\n",
    "sample"
   ]
  },
  {
   "cell_type": "code",
   "execution_count": 90,
   "metadata": {},
   "outputs": [
    {
     "data": {
      "text/plain": [
       "[827, 1628, 1261, 2062, 1232, 2033, 1666, 2467]"
      ]
     },
     "execution_count": 90,
     "metadata": {},
     "output_type": "execute_result"
    }
   ],
   "source": [
    "evalMask(sample[0],masks)"
   ]
  },
  {
   "cell_type": "code",
   "execution_count": 83,
   "metadata": {},
   "outputs": [
    {
     "data": {
      "text/plain": [
       "[[[0, 0, 0]],\n",
       " [[0, 0, 1]],\n",
       " [[0, 1, 0]],\n",
       " [[0, 1, 1]],\n",
       " [[1, 0, 0]],\n",
       " [[1, 0, 1]],\n",
       " [[1, 1, 0]],\n",
       " [[1, 1, 1]]]"
      ]
     },
     "execution_count": 83,
     "metadata": {},
     "output_type": "execute_result"
    }
   ],
   "source": [
    "masks"
   ]
  },
  {
   "cell_type": "code",
   "execution_count": null,
   "metadata": {},
   "outputs": [],
   "source": [
    "roundLimit = 1000000\n",
    "timeInterval = 12*60*60\n",
    "res = dict()\n",
    "count = 1\n",
    "vLogic = getVLogic(logic)\n",
    "masks = indexMask(vLogic)\n",
    "start = time()\n",
    "\n",
    "while True:\n",
    "    count+=1\n",
    "    samples = rSample(vLogic,roundLimit)\n",
    "    for i in range(len(samples)):\n",
    "        tempVals = evalMask(samples[i],masks)\n",
    "        if len(np.unique(tempvals)) != len(tempvals):\n",
    "            continue\n",
    "        tempOrd = str(np.argsort(tempVals))\n",
    "        #print(tempord)\n",
    "        if tempOrd not in res:\n",
    "            res[tempOrd] = 1\n",
    "        else:\n",
    "            res[tempOrd] +=1\n",
    "    \n",
    "    if reachTime(start, count*timeInterval):\n",
    "        saveResult(str(vLogic), count, res)\n",
    "    "
   ]
  },
  {
   "cell_type": "code",
   "execution_count": 20,
   "metadata": {},
   "outputs": [
    {
     "name": "stdout",
     "output_type": "stream",
     "text": [
      "1\n",
      "154\n"
     ]
    },
    {
     "data": {
      "text/plain": [
       "1.7412631511688232"
      ]
     },
     "execution_count": 20,
     "metadata": {},
     "output_type": "execute_result"
    }
   ],
   "source": [
    "start = time()\n",
    "logic = '4_2'\n",
    "noThetas = 2\n",
    "\n",
    "roundLimit = 10000\n",
    "\n",
    "count = 1\n",
    "vLogic = getVLogic(logic)\n",
    "masks = indexMask(vLogic)\n",
    "start = time()\n",
    "degree = len(vLogic)\n",
    "res=dict()\n",
    "\n",
    "while count < 2:\n",
    "    print(count)\n",
    "    samples = rSample(vLogic,roundLimit)\n",
    "    for i in range(len(samples)):\n",
    "        tempVals = evalMask(samples[i],masks)\n",
    "        \n",
    "        if len(np.unique(tempVals)) != len(tempVals):\n",
    "            continue\n",
    "\n",
    "        thetas = genThetas(noThetas,degree)\n",
    "        tempOrd = np.argsort(tempVals+thetas)\n",
    "        for i in range(len(tempOrd)):\n",
    "            if tempOrd[i] >= len(tempVals):\n",
    "                tempOrd[i] -= len(tempOrd)\n",
    "\n",
    "        tempOrd = str(binSort(tempOrd))\n",
    "\n",
    "        #print(tempord)\n",
    "        if tempOrd not in res:\n",
    "            res[tempOrd] = 1\n",
    "        else:\n",
    "            res[tempOrd] +=1\n",
    "        \n",
    "    if reachTime(start, count*timeInterval):\n",
    "        saveResult(str(vLogic), count, res)\n",
    "        count+=1\n",
    "    count+=1\n",
    "    print(len(res))\n",
    "\n",
    "time()-start"
   ]
  },
  {
   "cell_type": "code",
   "execution_count": 8,
   "metadata": {},
   "outputs": [],
   "source": [
    "samples = rSample(vLogic,roundLimit)"
   ]
  },
  {
   "cell_type": "code",
   "execution_count": 21,
   "metadata": {},
   "outputs": [
    {
     "data": {
      "text/plain": [
       "[[99, 677], [100, 813], [143, 519]]"
      ]
     },
     "execution_count": 21,
     "metadata": {},
     "output_type": "execute_result"
    }
   ],
   "source": [
    "samples[0]"
   ]
  },
  {
   "cell_type": "code",
   "execution_count": 23,
   "metadata": {},
   "outputs": [
    {
     "data": {
      "text/plain": [
       "[8400, 86100, 40440, 414510, 33160, 339890, 65200, 668300]"
      ]
     },
     "execution_count": 23,
     "metadata": {},
     "output_type": "execute_result"
    }
   ],
   "source": [
    "tempVals"
   ]
  },
  {
   "cell_type": "code",
   "execution_count": 22,
   "metadata": {},
   "outputs": [
    {
     "data": {
      "text/plain": [
       "[30013, 335418]"
      ]
     },
     "execution_count": 22,
     "metadata": {},
     "output_type": "execute_result"
    }
   ],
   "source": [
    "thetas"
   ]
  },
  {
   "cell_type": "code",
   "execution_count": 24,
   "metadata": {},
   "outputs": [],
   "source": [
    "tempOrd = np.argsort(tempVals+thetas)\n",
    "for i in range(len(tempOrd)):\n",
    "    if tempOrd[i] >= len(tempVals):\n",
    "        tempOrd[i] -= len(tempOrd)\n",
    "\n",
    "tempOrd = str(binSort(tempOrd))"
   ]
  },
  {
   "cell_type": "code",
   "execution_count": 25,
   "metadata": {},
   "outputs": [
    {
     "data": {
      "text/plain": [
       "'[ 0 -2  1  2  4  6 -1  3  5  7]'"
      ]
     },
     "execution_count": 25,
     "metadata": {},
     "output_type": "execute_result"
    }
   ],
   "source": [
    "tempOrd"
   ]
  },
  {
   "cell_type": "code",
   "execution_count": 60,
   "metadata": {},
   "outputs": [],
   "source": [
    "def generateRegionForNode(logic, samples, thetas):\n",
    "    \n",
    "    vLogic = getVLogic(logic)\n",
    "    masks = indexMask(vLogic)\n",
    "    \n",
    "    tempVals = evalMask(samples,masks)\n",
    "    \n",
    "    if len(np.unique(tempVals)) != len(tempVals):\n",
    "            return False\n",
    "    \n",
    "    rthetas = thetas.copy()[::-1]\n",
    "    tempOrd = np.argsort(tempVals+rthetas)\n",
    "    for i in range(len(tempOrd)):\n",
    "        if tempOrd[i] >= len(tempVals):\n",
    "            tempOrd[i] -= len(tempOrd)\n",
    "    tempOrd = str(list(binSort(tempOrd)))\n",
    "    return eval(tempOrd)\n",
    "\n",
    "def generateRegionForNetwork(logics,sampleList,thetaList):\n",
    "    ret = []\n",
    "    for i in range(len(logics)):\n",
    "        logic, samples, thetas = logics[i], sampleList[i], thetaList[i]\n",
    "        factor = generateRegionForNode(logic, samples, thetas)\n",
    "        ret.append(factor)\n",
    "    return ret"
   ]
  },
  {
   "cell_type": "code",
   "execution_count": 66,
   "metadata": {},
   "outputs": [],
   "source": [
    "# exmaple of toggle switch\n",
    "# generate the inputs\n",
    "logics=['2','2']\n",
    "vLogic = getVLogic('2')\n",
    "\n",
    "sampleList = rSample(vLogic,2)\n",
    "thetaList = [genThetas(1,1) for _ in range(len(logics))]"
   ]
  },
  {
   "cell_type": "code",
   "execution_count": 70,
   "metadata": {},
   "outputs": [
    {
     "data": {
      "text/plain": [
       "[[-1, 0, 1], [-1, 0, 1], [0, -1, 1]]"
      ]
     },
     "execution_count": 70,
     "metadata": {},
     "output_type": "execute_result"
    }
   ],
   "source": [
    "generateRegionForNetwork(logics,sampleList,thetaList)"
   ]
  },
  {
   "cell_type": "code",
   "execution_count": 71,
   "metadata": {},
   "outputs": [],
   "source": [
    "# example of repressilator \n",
    "logics=['2','2','2']\n",
    "vLogic = getVLogic('2')\n",
    "\n",
    "sampleList = rSample(vLogic,3)\n",
    "thetaList = [genThetas(1,1) for _ in range(len(logics))]"
   ]
  },
  {
   "cell_type": "code",
   "execution_count": 72,
   "metadata": {},
   "outputs": [
    {
     "data": {
      "text/plain": [
       "[[-1, 0, 1], [0, -1, 1], [-1, 0, 1]]"
      ]
     },
     "execution_count": 72,
     "metadata": {},
     "output_type": "execute_result"
    }
   ],
   "source": [
    "generateRegionForNetwork(logics,sampleList,thetaList)"
   ]
  },
  {
   "cell_type": "code",
   "execution_count": 73,
   "metadata": {},
   "outputs": [],
   "source": [
    "# example of p53\n",
    "# example of repressilator \n",
    "logics=['2','2','2','2_2','4_2']\n",
    "vLogics = [getVLogic(x) for x in logics]\n",
    "\n",
    "sampleList = [rSample(vLogic,1)[0] for vLogic in vLogics]\n",
    "thetaList = [genThetas(1,1), genThetas(2,1), genThetas(2,1), genThetas(1,1), genThetas(2,1) ]"
   ]
  },
  {
   "cell_type": "code",
   "execution_count": 74,
   "metadata": {},
   "outputs": [
    {
     "data": {
      "text/plain": [
       "[[-1, 0, 1],\n",
       " [0, -2, 1, -1],\n",
       " [0, -2, -1, 1],\n",
       " [-1, 0, 1, 2, 3],\n",
       " [-2, -1, 0, 1, 2, 3, 4, 5, 6, 7]]"
      ]
     },
     "execution_count": 74,
     "metadata": {},
     "output_type": "execute_result"
    }
   ],
   "source": [
    "generateRegionForNetwork(logics,sampleList,thetaList)"
   ]
  },
  {
   "cell_type": "code",
   "execution_count": null,
   "metadata": {},
   "outputs": [],
   "source": []
  }
 ],
 "metadata": {
  "kernelspec": {
   "display_name": "Python (tensorflow)",
   "language": "python",
   "name": "myenv"
  },
  "language_info": {
   "codemirror_mode": {
    "name": "ipython",
    "version": 3
   },
   "file_extension": ".py",
   "mimetype": "text/x-python",
   "name": "python",
   "nbconvert_exporter": "python",
   "pygments_lexer": "ipython3",
   "version": "3.6.7"
  }
 },
 "nbformat": 4,
 "nbformat_minor": 2
}
